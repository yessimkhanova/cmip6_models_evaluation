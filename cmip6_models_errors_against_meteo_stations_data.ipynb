{
  "nbformat": 4,
  "nbformat_minor": 0,
  "metadata": {
    "colab": {
      "provenance": [],
      "toc_visible": true,
      "authorship_tag": "ABX9TyORRN1hwsyALuDa1RAt4Gu+",
      "include_colab_link": true
    },
    "kernelspec": {
      "name": "python3",
      "display_name": "Python 3"
    },
    "language_info": {
      "name": "python"
    }
  },
  "cells": [
    {
      "cell_type": "markdown",
      "metadata": {
        "id": "view-in-github",
        "colab_type": "text"
      },
      "source": [
        "<a href=\"https://colab.research.google.com/github/yessimkhanova/cmip6_models_evaluation/blob/main/cmip6_models_errors_against_meteo_stations_data.ipynb\" target=\"_parent\"><img src=\"https://colab.research.google.com/assets/colab-badge.svg\" alt=\"Open In Colab\"/></a>"
      ]
    },
    {
      "cell_type": "markdown",
      "source": [
        "This code is calculating RMSE, MAE, MBE errors"
      ],
      "metadata": {
        "id": "4aUkgf21j41t"
      }
    },
    {
      "cell_type": "code",
      "source": [
        "import os\n",
        "import numpy as np\n",
        "import pandas as pd\n",
        "from sklearn.metrics import mean_squared_error, mean_absolute_error\n",
        "from google.colab import drive\n",
        "drive.mount('/content/drive')\n",
        "\n",
        "\n",
        "# Define a function to calculate error metrics for a single station\n",
        "def calculate_error_metrics(insitu_data, model_data):\n",
        "    # Reshape insitu and model data to long format\n",
        "    insitu_data = insitu_data.melt(id_vars=['Year'], var_name='Month', value_name='Temperature_insitu')\n",
        "    model_data = model_data.melt(id_vars=['Year'], var_name='Month', value_name='Temperature_model')\n",
        "\n",
        "    # Merge insitu and model data on 'Year' and 'Month' columns\n",
        "    merged_data = pd.merge(insitu_data, model_data, on=['Year', 'Month'])\n",
        "    if merged_data.empty:\n",
        "        raise ValueError(\"Merged data is empty. Check data consistency.\")\n",
        "\n",
        "    # Calculate error metrics\n",
        "    rmse = np.sqrt(mean_squared_error(merged_data['Temperature_insitu'], merged_data['Temperature_model']))\n",
        "    mae = mean_absolute_error(merged_data['Temperature_insitu'], merged_data['Temperature_model'])\n",
        "    mbe = np.mean(merged_data['Temperature_model'] - merged_data['Temperature_insitu'])\n",
        "    return rmse, mae, mbe\n",
        "\n",
        "# Directories\n",
        "insitu_directory = \"/content/drive/My Drive/koppen_maps/insitu/temperature/\"\n",
        "base_dir = \"/content/drive/My Drive/koppen_maps/models_errors/models_pixelValue/\"\n",
        "output_directory = \"/content/drive/My Drive/koppen_maps/models_errors/temperature_error/\"\n",
        "\n",
        "# Ensure the output directory exists\n",
        "if not os.path.exists(output_directory):\n",
        "    os.makedirs(output_directory)\n",
        "\n",
        "# Validate all model directories\n",
        "insitu_files = {file for file in os.listdir(insitu_directory) if file.endswith('.csv')}\n",
        "expected_file_count = 34\n",
        "\n",
        "for model_folder in os.listdir(base_dir):\n",
        "    model_directory = os.path.join(base_dir, model_folder, \"temperature/\")\n",
        "    if not os.path.isdir(model_directory):\n",
        "        continue\n",
        "\n",
        "    # Get the list of .csv files in the model directory\n",
        "    model_files = {file for file in os.listdir(model_directory) if file.endswith('.csv')}\n",
        "\n",
        "    # Check the file count\n",
        "    if len(model_files) != expected_file_count:\n",
        "        raise ValueError(f\"{model_folder} contains {len(model_files)} .csv files, but {expected_file_count} are required.\")\n",
        "\n",
        "    # Check for missing or extra files\n",
        "    missing_files = insitu_files - model_files\n",
        "    extra_files = model_files - insitu_files\n",
        "\n",
        "    if missing_files:\n",
        "        raise FileNotFoundError(f\"{model_folder} is missing .csv files: {missing_files}\")\n",
        "    if extra_files:\n",
        "        raise ValueError(f\"{model_folder} contains extra .csv files: {extra_files}\")\n",
        "\n",
        "print(\"All model directories validated successfully.\")\n",
        "\n",
        "# Calculate Metrics\n",
        "RMSE, MAE, MBE = {}, {}, {}\n",
        "\n",
        "for model_folder in os.listdir(base_dir):\n",
        "    model_directory = os.path.join(base_dir, model_folder, \"temperature/\")\n",
        "    if not os.path.isdir(model_directory):\n",
        "        continue\n",
        "\n",
        "    # Dictionaries to store metrics for the current model\n",
        "    rmse_dict, mae_dict, mbe_dict = {}, {}, {}\n",
        "\n",
        "    for filename in insitu_files:\n",
        "        try:\n",
        "            # Load insitu and model data\n",
        "            insitu_data = pd.read_csv(os.path.join(insitu_directory, filename))\n",
        "            model_data = pd.read_csv(os.path.join(model_directory, filename))\n",
        "\n",
        "            # Calculate error metrics\n",
        "            rmse, mae, mbe = calculate_error_metrics(insitu_data, model_data)\n",
        "\n",
        "            # Store results\n",
        "            station_name = filename.split('.')[0]\n",
        "            rmse_dict[station_name] = rmse\n",
        "            mae_dict[station_name] = mae\n",
        "            mbe_dict[station_name] = mbe\n",
        "        except Exception as e:\n",
        "            print(f\"Error processing {filename} in {model_folder}: {e}\")\n",
        "            raise  # Stop execution if there's a critical issue\n",
        "\n",
        "    # Store metrics in global dictionaries\n",
        "    RMSE[model_folder] = rmse_dict\n",
        "    MAE[model_folder] = mae_dict\n",
        "    MBE[model_folder] = mbe_dict\n",
        "\n",
        "# Save Metrics to CSV Files\n",
        "for metric, data in [(\"RMSE\", RMSE), (\"MAE\", MAE), (\"MBE\", MBE)]:\n",
        "    df = pd.DataFrame(data)\n",
        "    df.to_csv(os.path.join(output_directory, f\"temperature_{metric.lower()}.csv\"))\n",
        "    print(f\"{metric} DataFrame saved successfully!\")\n"
      ],
      "metadata": {
        "id": "jvavCRLokplM",
        "colab": {
          "base_uri": "https://localhost:8080/"
        },
        "outputId": "5840a3ea-7342-4ab6-dda0-ba0db1e63b5a"
      },
      "execution_count": 3,
      "outputs": [
        {
          "output_type": "stream",
          "name": "stdout",
          "text": [
            "Drive already mounted at /content/drive; to attempt to forcibly remount, call drive.mount(\"/content/drive\", force_remount=True).\n",
            "All model directories validated successfully.\n",
            "RMSE DataFrame saved successfully!\n",
            "MAE DataFrame saved successfully!\n",
            "MBE DataFrame saved successfully!\n"
          ]
        }
      ]
    },
    {
      "cell_type": "code",
      "source": [
        "import os\n",
        "import numpy as np\n",
        "import pandas as pd\n",
        "from sklearn.metrics import mean_squared_error, mean_absolute_error\n",
        "from google.colab import drive\n",
        "drive.mount('/content/drive')\n",
        "\n",
        "\n",
        "# Define a function to calculate error metrics for a single station\n",
        "def calculate_error_metrics(insitu_data, model_data):\n",
        "    # Reshape insitu and model data to long format\n",
        "    insitu_data = insitu_data.melt(id_vars=['Year'], var_name='Month', value_name='Precipitation_insitu')\n",
        "    model_data = model_data.melt(id_vars=['Year'], var_name='Month', value_name='Precipitation_model')\n",
        "\n",
        "    # Merge insitu and model data on 'Year' and 'Month' columns\n",
        "    merged_data = pd.merge(insitu_data, model_data, on=['Year', 'Month'])\n",
        "    if merged_data.empty:\n",
        "        raise ValueError(\"Merged data is empty. Check data consistency.\")\n",
        "\n",
        "    # Calculate error metrics\n",
        "    rmse = np.sqrt(mean_squared_error(merged_data['Precipitation_insitu'], merged_data['Precipitation_model']))\n",
        "    mae = mean_absolute_error(merged_data['Precipitation_insitu'], merged_data['Precipitation_model'])\n",
        "    mbe = np.mean(merged_data['Precipitation_model'] - merged_data['Precipitation_insitu'])\n",
        "    return rmse, mae, mbe\n",
        "\n",
        "# Directories\n",
        "insitu_directory = \"/content/drive/My Drive/koppen_maps/insitu/precipitation/\"\n",
        "base_dir = \"/content/drive/My Drive/koppen_maps/models_errors/models_pixelValue/\"\n",
        "output_directory = \"/content/drive/My Drive/koppen_maps/models_errors/precipitation_error/\"\n",
        "\n",
        "# Ensure the output directory exists\n",
        "if not os.path.exists(output_directory):\n",
        "    os.makedirs(output_directory)\n",
        "\n",
        "# Validate all model directories\n",
        "insitu_files = {file for file in os.listdir(insitu_directory) if file.endswith('.csv')}\n",
        "expected_file_count = 34\n",
        "\n",
        "for model_folder in os.listdir(base_dir):\n",
        "    model_directory = os.path.join(base_dir, model_folder, \"precipitation/\")\n",
        "    if not os.path.isdir(model_directory):\n",
        "        continue\n",
        "\n",
        "    # Get the list of .csv files in the model directory\n",
        "    model_files = {file for file in os.listdir(model_directory) if file.endswith('.csv')}\n",
        "\n",
        "    # Check the file count\n",
        "    if len(model_files) != expected_file_count:\n",
        "        raise ValueError(f\"{model_folder} contains {len(model_files)} .csv files, but {expected_file_count} are required.\")\n",
        "\n",
        "    # Check for missing or extra files\n",
        "    missing_files = insitu_files - model_files\n",
        "    extra_files = model_files - insitu_files\n",
        "\n",
        "    if missing_files:\n",
        "        raise FileNotFoundError(f\"{model_folder} is missing .csv files: {missing_files}\")\n",
        "    if extra_files:\n",
        "        raise ValueError(f\"{model_folder} contains extra .csv files: {extra_files}\")\n",
        "\n",
        "print(\"All model directories validated successfully.\")\n",
        "\n",
        "# Calculate Metrics\n",
        "RMSE, MAE, MBE = {}, {}, {}\n",
        "\n",
        "for model_folder in os.listdir(base_dir):\n",
        "    model_directory = os.path.join(base_dir, model_folder, \"precipitation/\")\n",
        "    if not os.path.isdir(model_directory):\n",
        "        continue\n",
        "\n",
        "    # Dictionaries to store metrics for the current model\n",
        "    rmse_dict, mae_dict, mbe_dict = {}, {}, {}\n",
        "\n",
        "    for filename in insitu_files:\n",
        "        try:\n",
        "            # Load insitu and model data\n",
        "            insitu_data = pd.read_csv(os.path.join(insitu_directory, filename))\n",
        "            model_data = pd.read_csv(os.path.join(model_directory, filename))\n",
        "\n",
        "            # Calculate error metrics\n",
        "            rmse, mae, mbe = calculate_error_metrics(insitu_data, model_data)\n",
        "\n",
        "            # Store results\n",
        "            station_name = filename.split('.')[0]\n",
        "            rmse_dict[station_name] = rmse\n",
        "            mae_dict[station_name] = mae\n",
        "            mbe_dict[station_name] = mbe\n",
        "        except Exception as e:\n",
        "            print(f\"Error processing {filename} in {model_folder}: {e}\")\n",
        "            raise  # Stop execution if there's a critical issue\n",
        "\n",
        "    # Store metrics in global dictionaries\n",
        "    RMSE[model_folder] = rmse_dict\n",
        "    MAE[model_folder] = mae_dict\n",
        "    MBE[model_folder] = mbe_dict\n",
        "\n",
        "# Save Metrics to CSV Files\n",
        "for metric, data in [(\"RMSE\", RMSE), (\"MAE\", MAE), (\"MBE\", MBE)]:\n",
        "    df = pd.DataFrame(data)\n",
        "    df.to_csv(os.path.join(output_directory, f\"precip_{metric.lower()}.csv\"))\n",
        "    print(f\"{metric} DataFrame saved successfully!\")\n"
      ],
      "metadata": {
        "colab": {
          "base_uri": "https://localhost:8080/"
        },
        "id": "pAuCwM0Usw_B",
        "outputId": "73dc6609-bf91-4612-c8c3-96b743b1391b"
      },
      "execution_count": 2,
      "outputs": [
        {
          "output_type": "stream",
          "name": "stdout",
          "text": [
            "Drive already mounted at /content/drive; to attempt to forcibly remount, call drive.mount(\"/content/drive\", force_remount=True).\n",
            "All model directories validated successfully.\n",
            "RMSE DataFrame saved successfully!\n",
            "MAE DataFrame saved successfully!\n",
            "MBE DataFrame saved successfully!\n"
          ]
        }
      ]
    },
    {
      "cell_type": "markdown",
      "source": [
        "Best fit model based on temperature RMSE"
      ],
      "metadata": {
        "id": "8bLChMQl08kc"
      }
    },
    {
      "cell_type": "code",
      "source": [
        "# Mount Google Drive\n",
        "from google.colab import drive\n",
        "drive.mount('/content/drive')\n",
        "\n",
        "# Import necessary libraries\n",
        "import pandas as pd\n",
        "\n",
        "# Read the CSV file into a Pandas DataFrame\n",
        "file_path = '/content/drive/My Drive/koppen_maps/models_errors/temperature_error/temperature_rmse.csv'\n",
        "data = pd.read_csv(file_path, index_col=0)\n",
        "\n",
        "# Find the indices of the 3 lowest values for each station\n",
        "best_models_indices = data.apply(lambda x: x.argsort().head(3), axis=1)\n",
        "\n",
        "# Retrieve the corresponding models for the best four values\n",
        "best_models = pd.DataFrame(columns=['Best Model 1', 'Best Model 2', 'Best Model 3'])\n",
        "\n",
        "for index, row in best_models_indices.iterrows():\n",
        "    best_models.loc[index] = data.columns[row].values\n",
        "\n",
        "# Output the results\n",
        "#print(\"Best models for each station based on RMSE:\")\n",
        "#print(best_models)\n",
        "\n",
        "modelscore = {}\n",
        "for (st, r) in best_models.iterrows():\n",
        "    for i in range(3):\n",
        "        m = r.array[i]\n",
        "        if m not in modelscore:\n",
        "            modelscore[m] = 0\n",
        "        modelscore[m] += 3 - i\n",
        "\n",
        "# Sort the dictionary items by value in descending order\n",
        "sorted_modelscore = sorted(modelscore.items(), key=lambda x: x[1], reverse=True)\n",
        "\n",
        "# Display the sorted modelscore as a column\n",
        "for model, score in sorted_modelscore:\n",
        "    print(f\"{model}: {score}\")"
      ],
      "metadata": {
        "colab": {
          "base_uri": "https://localhost:8080/"
        },
        "collapsed": true,
        "id": "heaSUR6M1Bqy",
        "outputId": "0dc5d649-6378-4976-bdc0-96a6aa3e57ae"
      },
      "execution_count": 5,
      "outputs": [
        {
          "output_type": "stream",
          "name": "stdout",
          "text": [
            "Drive already mounted at /content/drive; to attempt to forcibly remount, call drive.mount(\"/content/drive\", force_remount=True).\n",
            "GISS-E2-1-G: 83\n",
            "MIROC-ES2L: 55\n",
            "EC-Earth3-Veg-LR: 19\n",
            "UKESM1-0-LL: 7\n",
            "INM-CM5-0: 7\n",
            "MRI-ESM2-0: 5\n",
            "TaiESM1: 5\n",
            "CMCC-CM2-SR5: 5\n",
            "MIROC6: 4\n",
            "KIOST-ESM: 4\n",
            "BCC-CSM2-MR: 2\n",
            "HadGEM3-GC31-LL: 2\n",
            "GFDL-ESM4: 2\n",
            "CESM2-WACCM: 2\n",
            "MPI-ESM1-2-HR: 1\n",
            "CNRM-ESM2-1: 1\n"
          ]
        }
      ]
    },
    {
      "cell_type": "markdown",
      "source": [
        "Best fit model based on precipitation RMSE"
      ],
      "metadata": {
        "id": "Pvl3k_Fm1e2q"
      }
    },
    {
      "cell_type": "code",
      "source": [
        "# Mount Google Drive\n",
        "from google.colab import drive\n",
        "drive.mount('/content/drive')\n",
        "\n",
        "# Import necessary libraries\n",
        "import pandas as pd\n",
        "\n",
        "# Read the CSV file into a Pandas DataFrame\n",
        "file_path = '/content/drive/My Drive/koppen_maps/models_errors/precipitation_error/precipitation_rmse.csv'\n",
        "data = pd.read_csv(file_path, index_col=0)\n",
        "\n",
        "# Find the indices of the 3 lowest values for each station\n",
        "best_models_indices = data.apply(lambda x: x.argsort().head(3), axis=1)\n",
        "\n",
        "# Retrieve the corresponding models for the best four values\n",
        "best_models = pd.DataFrame(columns=['Best Model 1', 'Best Model 2', 'Best Model 3'])\n",
        "\n",
        "for index, row in best_models_indices.iterrows():\n",
        "    best_models.loc[index] = data.columns[row].values\n",
        "\n",
        "# Output the results\n",
        "#print(\"Best models for each station based on RMSE:\")\n",
        "#print(best_models)\n",
        "\n",
        "modelscore = {}\n",
        "for (st, r) in best_models.iterrows():\n",
        "    for i in range(3):\n",
        "        m = r.array[i]\n",
        "        if m not in modelscore:\n",
        "            modelscore[m] = 0\n",
        "        modelscore[m] += 3 - i\n",
        "\n",
        "# Sort the dictionary items by value in descending order\n",
        "sorted_modelscore = sorted(modelscore.items(), key=lambda x: x[1], reverse=True)\n",
        "\n",
        "# Display the sorted modelscore as a column\n",
        "for model, score in sorted_modelscore:\n",
        "    print(f\"{model}: {score}\")"
      ],
      "metadata": {
        "colab": {
          "base_uri": "https://localhost:8080/"
        },
        "collapsed": true,
        "id": "YIECSg1j1bOi",
        "outputId": "4c1a5e3f-2904-4f18-db2f-4395c9921e98"
      },
      "execution_count": 8,
      "outputs": [
        {
          "output_type": "stream",
          "name": "stdout",
          "text": [
            "Drive already mounted at /content/drive; to attempt to forcibly remount, call drive.mount(\"/content/drive\", force_remount=True).\n",
            "MIROC-ES2L: 48\n",
            "FGOALS-g3: 33\n",
            "UKESM1-0-LL: 23\n",
            "GISS-E2-1-G: 22\n",
            "INM-CM5-0: 13\n",
            "MIROC6: 9\n",
            "INM-CM4-8: 8\n",
            "NorESM2-LM: 7\n",
            "ACCESS-CM2: 6\n",
            "MPI-ESM1-2-LR: 5\n",
            "CanESM5: 4\n",
            "KACE-1-0-G: 4\n",
            "HadGEM3-GC31-LL: 3\n",
            "TaiESM1: 3\n",
            "IPSL-CM6A-LR: 3\n",
            "CESM2: 3\n",
            "CMCC-CM2-SR5: 3\n",
            "BCC-CSM2-MR: 2\n",
            "CNRM-CM6-1: 1\n",
            "GFDL-ESM4: 1\n",
            "MRI-ESM2-0: 1\n",
            "EC-Earth3: 1\n",
            "NorESM2-MM: 1\n"
          ]
        }
      ]
    },
    {
      "cell_type": "markdown",
      "source": [
        "Best fit model based on temperature MAE"
      ],
      "metadata": {
        "id": "zYtV_PJL3Ez6"
      }
    },
    {
      "cell_type": "code",
      "source": [
        "# Mount Google Drive\n",
        "from google.colab import drive\n",
        "drive.mount('/content/drive')\n",
        "\n",
        "# Import necessary libraries\n",
        "import pandas as pd\n",
        "\n",
        "# Read the CSV file into a Pandas DataFrame\n",
        "file_path = '/content/drive/My Drive/koppen_maps/models_errors/temperature_error/temperature_mae.csv'\n",
        "data = pd.read_csv(file_path, index_col=0)\n",
        "\n",
        "# Find the indices of the 3 lowest values for each station\n",
        "best_models_indices = data.apply(lambda x: x.argsort().head(3), axis=1)\n",
        "\n",
        "# Retrieve the corresponding models for the best four values\n",
        "best_models = pd.DataFrame(columns=['Best Model 1', 'Best Model 2', 'Best Model 3'])\n",
        "\n",
        "for index, row in best_models_indices.iterrows():\n",
        "    best_models.loc[index] = data.columns[row].values\n",
        "\n",
        "# Output the results\n",
        "#print(\"Best models for each station based on RMSE:\")\n",
        "#print(best_models)\n",
        "\n",
        "modelscore = {}\n",
        "for (st, r) in best_models.iterrows():\n",
        "    for i in range(3):\n",
        "        m = r.array[i]\n",
        "        if m not in modelscore:\n",
        "            modelscore[m] = 0\n",
        "        modelscore[m] += 3 - i\n",
        "\n",
        "# Sort the dictionary items by value in descending order\n",
        "sorted_modelscore = sorted(modelscore.items(), key=lambda x: x[1], reverse=True)\n",
        "\n",
        "# Display the sorted modelscore as a column\n",
        "for model, score in sorted_modelscore:\n",
        "    print(f\"{model}: {score}\")"
      ],
      "metadata": {
        "colab": {
          "base_uri": "https://localhost:8080/"
        },
        "id": "rFK50O8C3lyS",
        "outputId": "71b5e23f-c617-4f55-dca8-60a8a0b76b0c"
      },
      "execution_count": 9,
      "outputs": [
        {
          "output_type": "stream",
          "name": "stdout",
          "text": [
            "Drive already mounted at /content/drive; to attempt to forcibly remount, call drive.mount(\"/content/drive\", force_remount=True).\n",
            "GISS-E2-1-G: 81\n",
            "INM-CM5-0: 35\n",
            "MIROC-ES2L: 23\n",
            "EC-Earth3-Veg-LR: 17\n",
            "UKESM1-0-LL: 8\n",
            "KIOST-ESM: 8\n",
            "TaiESM1: 5\n",
            "CMCC-CM2-SR5: 5\n",
            "CESM2-WACCM: 4\n",
            "ACCESS-CM2: 3\n",
            "BCC-CSM2-MR: 2\n",
            "MIROC6: 2\n",
            "ACCESS-ESM1-5: 2\n",
            "NorESM2-LM: 2\n",
            "MRI-ESM2-0: 2\n",
            "CNRM-ESM2-1: 2\n",
            "HadGEM3-GC31-LL: 1\n",
            "INM-CM4-8: 1\n",
            "GFDL-ESM4: 1\n"
          ]
        }
      ]
    },
    {
      "cell_type": "markdown",
      "source": [
        "Best fit model based on precipitation MAE"
      ],
      "metadata": {
        "id": "vGYR3lYI26my"
      }
    },
    {
      "cell_type": "code",
      "source": [
        "# Mount Google Drive\n",
        "from google.colab import drive\n",
        "drive.mount('/content/drive')\n",
        "\n",
        "# Import necessary libraries\n",
        "import pandas as pd\n",
        "\n",
        "# Read the CSV file into a Pandas DataFrame\n",
        "file_path = '/content/drive/My Drive/koppen_maps/models_errors/precipitation_error/precipitation_mae.csv'\n",
        "data = pd.read_csv(file_path, index_col=0)\n",
        "\n",
        "# Find the indices of the 3 lowest values for each station\n",
        "best_models_indices = data.apply(lambda x: x.argsort().head(3), axis=1)\n",
        "\n",
        "# Retrieve the corresponding models for the best four values\n",
        "best_models = pd.DataFrame(columns=['Best Model 1', 'Best Model 2', 'Best Model 3'])\n",
        "\n",
        "for index, row in best_models_indices.iterrows():\n",
        "    best_models.loc[index] = data.columns[row].values\n",
        "\n",
        "# Output the results\n",
        "#print(\"Best models for each station based on RMSE:\")\n",
        "#print(best_models)\n",
        "\n",
        "modelscore = {}\n",
        "for (st, r) in best_models.iterrows():\n",
        "    for i in range(3):\n",
        "        m = r.array[i]\n",
        "        if m not in modelscore:\n",
        "            modelscore[m] = 0\n",
        "        modelscore[m] += 3 - i\n",
        "\n",
        "# Sort the dictionary items by value in descending order\n",
        "sorted_modelscore = sorted(modelscore.items(), key=lambda x: x[1], reverse=True)\n",
        "\n",
        "# Display the sorted modelscore as a column\n",
        "for model, score in sorted_modelscore:\n",
        "    print(f\"{model}: {score}\")"
      ],
      "metadata": {
        "colab": {
          "base_uri": "https://localhost:8080/"
        },
        "collapsed": true,
        "id": "vMQLQOvD30Xh",
        "outputId": "76c2cf12-624f-477b-a4cb-90f5098b073d"
      },
      "execution_count": 10,
      "outputs": [
        {
          "output_type": "stream",
          "name": "stdout",
          "text": [
            "Drive already mounted at /content/drive; to attempt to forcibly remount, call drive.mount(\"/content/drive\", force_remount=True).\n",
            "MIROC-ES2L: 48\n",
            "GISS-E2-1-G: 35\n",
            "FGOALS-g3: 34\n",
            "INM-CM5-0: 21\n",
            "UKESM1-0-LL: 16\n",
            "ACCESS-CM2: 11\n",
            "NorESM2-LM: 7\n",
            "KACE-1-0-G: 6\n",
            "INM-CM4-8: 5\n",
            "MIROC6: 5\n",
            "HadGEM3-GC31-LL: 4\n",
            "CanESM5: 4\n",
            "TaiESM1: 3\n",
            "CNRM-CM6-1: 2\n",
            "CESM2-WACCM: 1\n",
            "IPSL-CM6A-LR: 1\n",
            "BCC-CSM2-MR: 1\n"
          ]
        }
      ]
    },
    {
      "cell_type": "markdown",
      "source": [
        "Best fit model based on temperature MBE"
      ],
      "metadata": {
        "id": "Wn-HHOFR4doq"
      }
    },
    {
      "cell_type": "code",
      "source": [
        "# Mount Google Drive\n",
        "from google.colab import drive\n",
        "drive.mount('/content/drive')\n",
        "\n",
        "# Import necessary libraries\n",
        "import pandas as pd\n",
        "\n",
        "# Read the CSV file into a Pandas DataFrame\n",
        "file_path = '/content/drive/My Drive/koppen_maps/models_errors/temperature_error/temperature_mbe.csv'\n",
        "data = pd.read_csv(file_path, index_col=0)\n",
        "\n",
        "# Find the indices of the 3 lowest values for each station\n",
        "best_models_indices = data.apply(lambda x: x.argsort().head(3), axis=1)\n",
        "\n",
        "# Retrieve the corresponding models for the best four values\n",
        "best_models = pd.DataFrame(columns=['Best Model 1', 'Best Model 2', 'Best Model 3'])\n",
        "\n",
        "for index, row in best_models_indices.iterrows():\n",
        "    best_models.loc[index] = data.columns[row].values\n",
        "\n",
        "# Output the results\n",
        "#print(\"Best models for each station based on RMSE:\")\n",
        "#print(best_models)\n",
        "\n",
        "modelscore = {}\n",
        "for (st, r) in best_models.iterrows():\n",
        "    for i in range(3):\n",
        "        m = r.array[i]\n",
        "        if m not in modelscore:\n",
        "            modelscore[m] = 0\n",
        "        modelscore[m] += 3 - i\n",
        "\n",
        "# Sort the dictionary items by value in descending order\n",
        "sorted_modelscore = sorted(modelscore.items(), key=lambda x: x[1], reverse=True)\n",
        "\n",
        "# Display the sorted modelscore as a column\n",
        "for model, score in sorted_modelscore:\n",
        "    print(f\"{model}: {score}\")"
      ],
      "metadata": {
        "colab": {
          "base_uri": "https://localhost:8080/"
        },
        "id": "YW6rgOPX39xa",
        "outputId": "11474ad2-03b5-441b-c93d-ebd3c7ff06fe"
      },
      "execution_count": 11,
      "outputs": [
        {
          "output_type": "stream",
          "name": "stdout",
          "text": [
            "Drive already mounted at /content/drive; to attempt to forcibly remount, call drive.mount(\"/content/drive\", force_remount=True).\n",
            "GFDL-CM4: 60\n",
            "MPI-ESM1-2-LR: 42\n",
            "INM-CM4-8: 30\n",
            "NESM3: 23\n",
            "MIROC6: 22\n",
            "KIOST-ESM: 10\n",
            "EC-Earth3: 6\n",
            "BCC-CSM2-MR: 6\n",
            "FGOALS-g3: 3\n",
            "NorESM2-MM: 2\n"
          ]
        }
      ]
    },
    {
      "cell_type": "markdown",
      "source": [
        "Best fit model based on precipitation MBE"
      ],
      "metadata": {
        "id": "A473LEK34iK6"
      }
    },
    {
      "cell_type": "code",
      "source": [
        "# Mount Google Drive\n",
        "from google.colab import drive\n",
        "drive.mount('/content/drive')\n",
        "\n",
        "# Import necessary libraries\n",
        "import pandas as pd\n",
        "\n",
        "# Read the CSV file into a Pandas DataFrame\n",
        "file_path = '/content/drive/My Drive/koppen_maps/models_errors/precipitation_error/precipitation_mbe.csv'\n",
        "data = pd.read_csv(file_path, index_col=0)\n",
        "\n",
        "# Find the indices of the 3 lowest values for each station\n",
        "best_models_indices = data.apply(lambda x: x.argsort().head(3), axis=1)\n",
        "\n",
        "# Retrieve the corresponding models for the best four values\n",
        "best_models = pd.DataFrame(columns=['Best Model 1', 'Best Model 2', 'Best Model 3'])\n",
        "\n",
        "for index, row in best_models_indices.iterrows():\n",
        "    best_models.loc[index] = data.columns[row].values\n",
        "\n",
        "# Output the results\n",
        "#print(\"Best models for each station based on RMSE:\")\n",
        "#print(best_models)\n",
        "\n",
        "modelscore = {}\n",
        "for (st, r) in best_models.iterrows():\n",
        "    for i in range(3):\n",
        "        m = r.array[i]\n",
        "        if m not in modelscore:\n",
        "            modelscore[m] = 0\n",
        "        modelscore[m] += 3 - i\n",
        "\n",
        "# Sort the dictionary items by value in descending order\n",
        "sorted_modelscore = sorted(modelscore.items(), key=lambda x: x[1], reverse=True)\n",
        "\n",
        "# Display the sorted modelscore as a column\n",
        "for model, score in sorted_modelscore:\n",
        "    print(f\"{model}: {score}\")"
      ],
      "metadata": {
        "colab": {
          "base_uri": "https://localhost:8080/"
        },
        "id": "gEAE1EYT4ETK",
        "outputId": "603ff9ea-58e5-4b83-9587-4517544c01c1"
      },
      "execution_count": 12,
      "outputs": [
        {
          "output_type": "stream",
          "name": "stdout",
          "text": [
            "Drive already mounted at /content/drive; to attempt to forcibly remount, call drive.mount(\"/content/drive\", force_remount=True).\n",
            "KACE-1-0-G: 57\n",
            "IPSL-CM6A-LR: 35\n",
            "FGOALS-g3: 24\n",
            "HadGEM3-GC31-LL: 20\n",
            "GISS-E2-1-G: 15\n",
            "MPI-ESM1-2-HR: 12\n",
            "NorESM2-LM: 8\n",
            "NESM3: 6\n",
            "CanESM5: 6\n",
            "MIROC-ES2L: 5\n",
            "GFDL-ESM4: 3\n",
            "MPI-ESM1-2-LR: 3\n",
            "KIOST-ESM: 2\n",
            "GFDL-CM4: 2\n",
            "CMCC-CM2-SR5: 2\n",
            "UKESM1-0-LL: 1\n",
            "BCC-CSM2-MR: 1\n",
            "ACCESS-ESM1-5: 1\n",
            "INM-CM4-8: 1\n"
          ]
        }
      ]
    }
  ]
}